{
 "cells": [
  {
   "cell_type": "markdown",
   "id": "b3c494e2-f84f-424d-b2de-692602809582",
   "metadata": {
    "tags": []
   },
   "source": [
    "# Segmentation: on the cluster"
   ]
  },
  {
   "cell_type": "markdown",
   "id": "df9faceb-7d01-4133-a353-4bded52f9298",
   "metadata": {
    "tags": []
   },
   "source": [
    "### summary of segmentation workflow\n",
    "\n",
    "##### first, transfer the raw image data from the hcbi server to the local hard drive or external hard drive\n",
    "##### use rsync to transfer the raw image data from the local drive to /n/gaudet_lab/users/emay/microscopy/ on the rc cluster\n",
    "##### create an output directory inside the experiment folder on the cluster\n",
    "##### use segmentation.ipynb (using the custom jupyter lab setup in an interactive node) to load the raw data in\n",
    "##### assign sample names to images appropriately\n",
    "##### segment with cellpose; visually inspect the segmentation and adjust parameters as necessary\n",
    "##### save the segmentation labels and sample names to the output directory in the data's folder on the cluster\n",
    "##### use rsync to transfer the cluster folder containing the data, labels and sample names back to the local drive, and start this notebook from there"
   ]
  },
  {
   "cell_type": "code",
   "execution_count": 1,
   "id": "4b0281aa-1027-4918-b1a6-75d54be386b6",
   "metadata": {},
   "outputs": [],
   "source": [
    "# set up directories and paths\n",
    "\n",
    "n = '240201'\n",
    "# n = '240131'\n",
    "# n = '240113'\n",
    "# n = '240112'\n",
    "# n = '240111'\n",
    "# n = '231220'\n",
    "# n = '231215'\n",
    "# n = '231117'\n",
    "# n = '231014'\n",
    "# n = '231013'\n",
    "# n = '231011'\n",
    "# n = '230929'\n",
    "# n = '230927'\n",
    "# n = '230920'\n",
    "# n = '230916'\n",
    "\n",
    "p = './'+n+'_LSM880/'\n",
    "o = p+'out/'"
   ]
  },
  {
   "cell_type": "code",
   "execution_count": 2,
   "id": "001ca69d-4889-4438-8bdf-2d057d6f95ab",
   "metadata": {},
   "outputs": [],
   "source": [
    "# import packages\n",
    "\n",
    "import numpy as np\n",
    "import fraplib as fl\n",
    "import pandas as pd\n",
    "from matplotlib import pyplot as plt\n",
    "# import seaborn as sns\n",
    "import xarray as xr\n",
    "import microutil as mu\n",
    "# import matplotlib.patches as pch\n",
    "from mpl_interactions import hyperslicer\n",
    "from scipy import ndimage as ndi\n",
    "# import random\n",
    "import napari\n",
    "\n",
    "%matplotlib ipympl"
   ]
  },
  {
   "cell_type": "markdown",
   "id": "e92a30d3-fb0e-4dbd-9c58-9b8db70269bf",
   "metadata": {},
   "source": [
    "# load data"
   ]
  },
  {
   "cell_type": "code",
   "execution_count": 3,
   "id": "427aec24-8ac5-44b4-bb05-0ed839d1eb9e",
   "metadata": {
    "tags": []
   },
   "outputs": [],
   "source": [
    "h, _ = fl.batchread(p)\n",
    "\n",
    "# I took extra images in addition to ones for the assay for some experiments; select only the assay images for this analysis\n",
    "if n == '231004': \n",
    "    h = {k : h[k] for k in ['Image 6.czi', 'Image 8.czi']}\n",
    "elif n == '231006':\n",
    "    h = {k : h[k] for k in ['Image 1.czi', 'Image 4.czi']}"
   ]
  },
  {
   "cell_type": "code",
   "execution_count": 4,
   "id": "478e91c2-2b7e-4d2c-ac20-a869ce04d734",
   "metadata": {},
   "outputs": [
    {
     "data": {
      "text/plain": [
       "['Image 1.czi', 'Image 2.czi']"
      ]
     },
     "execution_count": 4,
     "metadata": {},
     "output_type": "execute_result"
    }
   ],
   "source": [
    "exptid = [i[:-4] for i in list(h.keys())]\n",
    "exptid.sort()\n",
    "\n",
    "k = list(h.keys())\n",
    "k.sort()\n",
    "k"
   ]
  },
  {
   "cell_type": "code",
   "execution_count": 5,
   "id": "0da9ac33-152a-4587-bf2f-ab73664bb8db",
   "metadata": {},
   "outputs": [
    {
     "data": {
      "text/plain": [
       "'Image 1.czi'"
      ]
     },
     "execution_count": 5,
     "metadata": {},
     "output_type": "execute_result"
    }
   ],
   "source": [
    "name = k[0]\n",
    "name"
   ]
  },
  {
   "cell_type": "code",
   "execution_count": 6,
   "id": "41b2c193-4653-4cb1-a632-887eca7f8084",
   "metadata": {},
   "outputs": [
    {
     "data": {
      "text/plain": [
       "['mCherry', 'Transmitted Light', 'FITC']"
      ]
     },
     "execution_count": 6,
     "metadata": {},
     "output_type": "execute_result"
    }
   ],
   "source": [
    "chnames = fl.channel_label(h[name])\n",
    "chnames"
   ]
  },
  {
   "cell_type": "code",
   "execution_count": 7,
   "id": "94178c4c-2aa6-4cf0-8169-eb7e372539e1",
   "metadata": {},
   "outputs": [
    {
     "data": {
      "text/plain": [
       "(48, 3, 2048, 2048)"
      ]
     },
     "execution_count": 7,
     "metadata": {},
     "output_type": "execute_result"
    }
   ],
   "source": [
    "images = np.concatenate([h[j].asarray().squeeze() for j in k], axis = 0)\n",
    "images.shape"
   ]
  },
  {
   "cell_type": "code",
   "execution_count": 8,
   "id": "2bb33979-15e9-4dc0-908c-43357ee8de04",
   "metadata": {},
   "outputs": [
    {
     "name": "stdout",
     "output_type": "stream",
     "text": [
      "['gC3FL+' 'gA11dC+' 'mock' 'gA11dC-' 'gC3dsdC' 'gC3ec56' 'gC3FL-'\n",
      " 'gC3FL-unstained' 'a4dCmCh+' '14xdC+' '22xdC+' 'a4+14x' 'a4+22x'\n",
      " 'a4+gA11dC-' '14x+gA11dC-' '22x+gA11dC-']\n"
     ]
    },
    {
     "data": {
      "text/plain": [
       "(None, 16)"
      ]
     },
     "execution_count": 8,
     "metadata": {},
     "output_type": "execute_result"
    }
   ],
   "source": [
    "samples = pd.read_csv(o+'samples_'+n+'.txt', header = None)[0].values\n",
    "print(samples), len(samples)"
   ]
  },
  {
   "cell_type": "code",
   "execution_count": 9,
   "id": "4ecf015c-7c58-462e-adb4-a530ef6aa6ec",
   "metadata": {},
   "outputs": [
    {
     "data": {
      "text/plain": [
       "(48, 3, 2048, 2048)"
      ]
     },
     "execution_count": 9,
     "metadata": {},
     "output_type": "execute_result"
    }
   ],
   "source": [
    "images.shape"
   ]
  },
  {
   "cell_type": "code",
   "execution_count": 10,
   "id": "815deab1-a7af-4c65-8d93-01b73275ee2b",
   "metadata": {},
   "outputs": [],
   "source": [
    "reps = 3\n",
    "\n",
    "ximages = xr.DataArray(\n",
    "    images.reshape(int(images.shape[0]/reps),reps,*images.shape[-3:]), \n",
    "    dims = list('SRCYX'), \n",
    "    coords = { 'S' : samples, 'C' : fl.channel_label(h[list(h.keys())[0]]) } )"
   ]
  },
  {
   "cell_type": "markdown",
   "id": "8b19c993-3718-4529-890d-fc2f794df759",
   "metadata": {},
   "source": [
    "# load segmentation labels"
   ]
  },
  {
   "cell_type": "markdown",
   "id": "0af954ee-c92e-464b-abf7-88f3adf0406a",
   "metadata": {
    "tags": []
   },
   "source": [
    "### summary of labels editing workflow\n",
    "\n",
    "##### first, load the labels in from the hard drive as a numpy array\n",
    "##### note: labels were saved to the hard drive after automated segmentation on the cluster (using a GPU) via cellpose\n",
    "##### reshape labels and make them as xarray to match ximages\n",
    "##### make vxl (viewer xlabels) by reshaping the xlabels into a 3D array from a 4D array\n",
    "##### make vxi (viewer ximages) by selecting just the transmitted light channel from ximages (.sel()) and reshaping it into a 3D array from a 4D array\n",
    "##### note: vxl and vxi as 3D arrays are necessary to make the fill option work in the napari viwer\n",
    "##### open a napari viewer, load vxi and vxl\n",
    "##### edit the labels manually (I use Astropad and ipad to draw/edit the labels)\n",
    "##### bring the manually-edited labels back from the viewer as a new \"labels\" variable\n",
    "##### reshape labels the same may the images were originally reshaped to a 4D array to maintain the correct Sample and Replicate matching\n",
    "##### save the new 4D labels array as .npy\n",
    "##### create a new xlabels object with the new labels and dims, coords matching those of ximages\n",
    "##### proceed on to image processing section"
   ]
  },
  {
   "cell_type": "code",
   "execution_count": 11,
   "id": "efeaa5d6-bd2c-4f14-a494-62d5fa1dfbc5",
   "metadata": {},
   "outputs": [],
   "source": [
    "labels = np.load(o+'labels_'+n+'.npy')\n",
    "\n",
    "labels_cmap = plt.cm.viridis.copy()\n",
    "labels_cmap.set_under(alpha = 0)\n",
    "\n",
    "if n == '231115':\n",
    "    \n",
    "    labels = np.concatenate( [\n",
    "            *labels[:33,...].reshape(int(labels[:33,...].shape[0]/reps),reps,*labels.shape[-2:]),\n",
    "            np.stack([*labels[-2:,...],np.empty(labels.shape[-2:]) * np.nan]) ], axis = 0 )\n",
    "    \n",
    "    ximages = xr.concat([\n",
    "        ximages[:11],\n",
    "        xr.concat([\n",
    "            ximages[11,:-1,...],\n",
    "            ximages[11,-1].where(np.zeros(ximages.shape[-3:], dtype = bool)) ], dim = 'R') ], dim = 'S' )\n",
    "\n",
    "xlabels = xr.DataArray(\n",
    "    labels.reshape(int(labels.shape[0]/reps),reps,*labels.shape[-2:]),\n",
    "    dims = list('SRYX'),\n",
    "    coords = { 'S' : ximages.S }\n",
    ")"
   ]
  },
  {
   "cell_type": "code",
   "execution_count": 12,
   "id": "57717d7c-d143-456a-8849-0b353b78f7b1",
   "metadata": {},
   "outputs": [
    {
     "data": {
      "text/plain": [
       "(16, 3, 2048, 2048)"
      ]
     },
     "execution_count": 12,
     "metadata": {},
     "output_type": "execute_result"
    }
   ],
   "source": [
    "ximages.sel({'C' : 'Transmitted Light'}).shape"
   ]
  },
  {
   "cell_type": "code",
   "execution_count": 13,
   "id": "db354167-9ee7-4195-987f-bb9cc32210f8",
   "metadata": {},
   "outputs": [],
   "source": [
    "vxl = xlabels.values.reshape((xlabels.shape[0]*xlabels.shape[1], xlabels.shape[-2], xlabels.shape[-1]))\n",
    "vxi = ximages.sel({'C' : 'Transmitted Light'}).values.reshape((xlabels.shape[0]*xlabels.shape[1], xlabels.shape[-2], xlabels.shape[-1]))"
   ]
  },
  {
   "cell_type": "code",
   "execution_count": 14,
   "id": "27efb3cf-e686-4763-9747-bac798bec475",
   "metadata": {},
   "outputs": [
    {
     "data": {
      "text/plain": [
       "<Labels layer 'vxl' at 0x16a5ae6a0>"
      ]
     },
     "execution_count": 14,
     "metadata": {},
     "output_type": "execute_result"
    }
   ],
   "source": [
    "viewer = napari.view_image(vxi, name = n+'_bfs')\n",
    "viewer.add_labels(vxl)"
   ]
  },
  {
   "cell_type": "markdown",
   "id": "b9090098-731d-4ec2-9165-18c1c2e01b29",
   "metadata": {},
   "source": [
    "#### if desired, modify labels in place in napari"
   ]
  },
  {
   "cell_type": "code",
   "execution_count": 15,
   "id": "ac7080b9-8c6e-4200-b516-2811f85f6587",
   "metadata": {},
   "outputs": [],
   "source": [
    "# labels = viewer.layers[1].data\n",
    "# labels = labels.reshape(int(images.shape[0]/reps),reps,*images.shape[-2:])\n",
    "# labels.shape"
   ]
  },
  {
   "cell_type": "code",
   "execution_count": 16,
   "id": "b170cb61-d4cf-4c82-b395-31ddea1632f1",
   "metadata": {},
   "outputs": [],
   "source": [
    "# new_labels = labels.data\n",
    "# np.save(o+'new_labels_'+n+'.npy', new_labels)\n",
    "# new_labels.shape"
   ]
  },
  {
   "cell_type": "code",
   "execution_count": 17,
   "id": "ee01126c-ade1-4fdb-92df-4932541cc5df",
   "metadata": {},
   "outputs": [],
   "source": [
    "# xlabels = xr.DataArray(new_labels, dims = xlabels.dims, coords = xlabels.coords)"
   ]
  },
  {
   "cell_type": "markdown",
   "id": "c36114e5-9b19-4a21-b9a7-57e5a57aeb19",
   "metadata": {},
   "source": [
    "# begin image processing stages"
   ]
  },
  {
   "cell_type": "code",
   "execution_count": 18,
   "id": "96aa82f9-aeeb-4aab-8147-dc09a613fec7",
   "metadata": {},
   "outputs": [],
   "source": [
    "ximages_allchannels = ximages"
   ]
  },
  {
   "cell_type": "code",
   "execution_count": 19,
   "id": "34e9d83b-3006-4a55-b2c9-888c750ef695",
   "metadata": {},
   "outputs": [],
   "source": [
    "ximages = ximages.drop_sel(C = 'Transmitted Light')"
   ]
  },
  {
   "cell_type": "code",
   "execution_count": 20,
   "id": "359715aa-fc7f-4a24-b29f-d1b6be8d8545",
   "metadata": {},
   "outputs": [],
   "source": [
    "from scipy.stats import linregress\n",
    "# import seaborn as sns"
   ]
  },
  {
   "cell_type": "code",
   "execution_count": 21,
   "id": "30609ddf-ac05-409c-ac32-92c84cc8118c",
   "metadata": {},
   "outputs": [
    {
     "name": "stdout",
     "output_type": "stream",
     "text": [
      "['gC3FL+' 'b17FL+' 'aC2FL+' 'gB6dC+' 'a4+gC3FL-' 'mock' 'a4dCmCh+'\n",
      " 'gC3FL-' '5xdC+' '10xdC+' '12xdC+' 'gB6dsdC' 'gA11dsdC' 'aC2dsdC'\n",
      " 'gA3dsdC' 'b17dsdC']\n"
     ]
    }
   ],
   "source": [
    "if n == '231115':\n",
    "    print(samples[:12])\n",
    "else:\n",
    "    print(samples)"
   ]
  },
  {
   "cell_type": "code",
   "execution_count": 22,
   "id": "ea854c8b-45d3-4e63-834c-8eb43b255860",
   "metadata": {},
   "outputs": [],
   "source": [
    "# bleedthrough correction (citation: Jost et al. 2019 J. Cell. Biol.)\n",
    "\n",
    "bt = 0.005 # calculated from universal_bleedthrough_analysis_part2.ipynb\n",
    "\n",
    "btc = ximages.sel({'C':'FITC'}) - bt*ximages.sel({'C':'mCherry'}) # correct FITC channel\n",
    "btc = xr.concat([ximages.sel({'C':'mCherry'}), btc], 'C') # new xarray containing mCherry and corrected FITC channels\n",
    "btc = btc.assign_coords({'C':['mCherry', 'FITC']}) # assign coordinate names\n",
    "btc = btc.transpose(*ximages.dims) # rearrange dimensions to match the original order from ximages"
   ]
  },
  {
   "cell_type": "markdown",
   "id": "d07bd07a-2527-499b-b246-97c469e12e74",
   "metadata": {},
   "source": [
    "btc = ximages"
   ]
  },
  {
   "cell_type": "markdown",
   "id": "d07b1192-01e2-48a7-bae4-5d78992092fe",
   "metadata": {},
   "source": [
    "# mean vs median of background pixels\n",
    "fig, axs = plt.subplots(2,1, layout = 'constrained', figsize = (6.5, 6))\n",
    "\n",
    "bkgd = btc.where(xlabels==0)\n",
    "\n",
    "for m, ch in enumerate(['mCherry', 'FITC']):\n",
    "    arr = np.array(bkgd.sel({'C':ch})).ravel()\n",
    "    arr = arr[~np.isnan(arr)]\n",
    "    axs[m].hist(arr, bins = 1000)\n",
    "    axs[m].semilogy()\n",
    "    axs[m].set_title(ch)\n",
    "    axs[m].axvline(arr.mean(), color = 'k')\n",
    "    axs[m].axvline(np.median(arr), color = 'darkblue')\n",
    "    axs[m].set_xlim(-100,300)\n",
    "plt.show()\n",
    "\n",
    "# median slightly less weighted by right-tail outliers"
   ]
  },
  {
   "cell_type": "code",
   "execution_count": 23,
   "id": "9782a599-8218-4e65-96d9-1da52caf7661",
   "metadata": {},
   "outputs": [],
   "source": [
    "# background subtraction: for each image, subtract from all pixels the median value of non-cell pixels\n",
    "# bkgd = ximages.where(xlabels==0)\n",
    "bkgd = btc.where(xlabels==0)\n",
    "mdbkgd = bkgd.median(list(\"YX\"))\n",
    "# mnbkgd = bkgd.mean(list(\"YX\"))\n",
    "# bgims = ximages - mdbkgd # median background subtraction\n",
    "bgims = btc - mdbkgd # median background subtraction"
   ]
  },
  {
   "cell_type": "code",
   "execution_count": 24,
   "id": "eb2ad3b9-7f3c-4808-9a14-b985a7019e74",
   "metadata": {},
   "outputs": [],
   "source": [
    "# consider pixel normalization to mock transfected sample in mCherry and FITC channels (code in initial_processing.ipynb)\n",
    "# excluding pixel normalization here"
   ]
  },
  {
   "cell_type": "code",
   "execution_count": 25,
   "id": "94e462cb-19de-4bff-b571-ca0824fc2091",
   "metadata": {},
   "outputs": [],
   "source": [
    "# computing cell-wise properties\n",
    "avgs = mu.single_cell.average(xlabels.to_dataset(name='labels'),bgims).to_series()\n",
    "areas = mu.single_cell.area(xlabels.to_dataset(name='labels')).to_series()"
   ]
  },
  {
   "cell_type": "code",
   "execution_count": 26,
   "id": "bf1311ca-be1a-47e9-b568-c514053098a4",
   "metadata": {},
   "outputs": [],
   "source": [
    "# excluding any cells with saturated pixels from analysis\n",
    "sat = xlabels.where(ximages.loc[:,:,'mCherry'] == 2**16-1).dropna(dim='S',how = 'all')\n",
    "indS = []\n",
    "indR = []\n",
    "cellID = []\n",
    "for s in sat:\n",
    "    for x,r in enumerate(s):\n",
    "        sat_cells = np.unique(r)\n",
    "        for num in sat_cells:\n",
    "            indS.append(str(s.S.data))\n",
    "            indR.append(x)\n",
    "            if np.isnan(num):\n",
    "                cellID.append(num)\n",
    "            else:\n",
    "                cellID.append(int(num))\n",
    "\n",
    "sat = xlabels.where(ximages.loc[:,:,'FITC'] == 2**16-1).dropna(dim='S',how = 'all')\n",
    "for s in sat:\n",
    "    for x,r in enumerate(s):\n",
    "        sat_cells = np.unique(r)\n",
    "        for num in sat_cells:\n",
    "            indS.append(str(s.S.data))\n",
    "            indR.append(x)\n",
    "            if np.isnan(num):\n",
    "                cellID.append(num)\n",
    "            else:\n",
    "                cellID.append(int(num))\n",
    "\n",
    "if indS or indR or cellID:\n",
    "    drop_sat = pd.MultiIndex.from_tuples(zip(indS, indR, cellID)).dropna()\n",
    "else:\n",
    "    drop_sat = []\n",
    "\n",
    "avgs = avgs.unstack('C').drop(drop_sat).stack().dropna()\n",
    "areas = areas.drop(drop_sat).astype(int).dropna()"
   ]
  },
  {
   "cell_type": "markdown",
   "id": "4190560a-409e-4c88-ab0d-64e9021d48a4",
   "metadata": {
    "tags": []
   },
   "source": [
    "# drop_sat"
   ]
  },
  {
   "cell_type": "markdown",
   "id": "7b6f5176-d058-4968-b170-c3e7b5397406",
   "metadata": {},
   "source": [
    "# cellwise-processed data"
   ]
  },
  {
   "cell_type": "code",
   "execution_count": 27,
   "id": "e4e1a80d-47ac-4ae7-9850-09acb83e6958",
   "metadata": {
    "tags": []
   },
   "outputs": [],
   "source": [
    "data = pd.concat([areas, avgs.unstack('C')], axis = 1)\n",
    "data.columns = ['area',*avgs.unstack('C').columns]\n",
    "multidata = data.reset_index()\n",
    "multidata['E'] = n\n",
    "\n",
    "multidata = multidata.set_index(list('ESR')+['CellID']).dropna(how = 'any')\n",
    "multidata.to_csv('./cellwise_values/without_bleedthrough_correction/'+n+'.csv', index_label=multidata.index.names)\n",
    "\n",
    "# data = pd.read_csv('./cellwise_values/without_bleedthrough_correction/'+n+'.csv', index_col = list('ESR')+['CellID'])\n",
    "# data"
   ]
  },
  {
   "cell_type": "code",
   "execution_count": null,
   "id": "8e8e29ba-6af3-494c-a49f-52c6e72aaf81",
   "metadata": {},
   "outputs": [],
   "source": []
  }
 ],
 "metadata": {
  "kernelspec": {
   "display_name": "Python 3 (ipykernel)",
   "language": "python",
   "name": "python3"
  },
  "language_info": {
   "codemirror_mode": {
    "name": "ipython",
    "version": 3
   },
   "file_extension": ".py",
   "mimetype": "text/x-python",
   "name": "python",
   "nbconvert_exporter": "python",
   "pygments_lexer": "ipython3",
   "version": "3.9.13"
  }
 },
 "nbformat": 4,
 "nbformat_minor": 5
}
